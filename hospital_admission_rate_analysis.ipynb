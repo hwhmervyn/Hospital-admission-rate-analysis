{
 "cells": [
  {
   "cell_type": "markdown",
   "source": [
    "# Multivariate regression on hospital admission rate in Singapore"
   ],
   "metadata": {}
  },
  {
   "cell_type": "markdown",
   "source": [
    "## Data preprocessing"
   ],
   "metadata": {}
  },
  {
   "cell_type": "code",
   "execution_count": 1,
   "source": [
    "import numpy as np\r\n",
    "import matplotlib.pyplot as plt\r\n",
    "import pandas as pd"
   ],
   "outputs": [],
   "metadata": {}
  },
  {
   "cell_type": "code",
   "execution_count": 2,
   "source": [
    "dataset = pd.read_csv('hospital-admission-rate-by-age-and-sex.csv')\r\n",
    "#dataset sourced from https://data.gov.sg/dataset/hospital-admission-rate-by-age-and-sex\r\n",
    "X = dataset.iloc[:, :-1].values\r\n",
    "y = dataset.iloc[:, -1].values"
   ],
   "outputs": [],
   "metadata": {}
  },
  {
   "cell_type": "code",
   "execution_count": 3,
   "source": [
    "from sklearn.preprocessing import LabelEncoder\r\n",
    "le = LabelEncoder()\r\n",
    "X[:, 1] = le.fit_transform(X[:, 1])\r\n",
    "X[:, 2] = le.fit_transform(X[:, 2])\r\n",
    "X[:, 3] = le.fit_transform(X[:, 3])\r\n"
   ],
   "outputs": [],
   "metadata": {}
  },
  {
   "cell_type": "markdown",
   "source": [
    "Facility type:\r\n",
    "\r\n",
    "Acute = 0;\r\n",
    "Psychiatric Hospitals = 2;\r\n",
    "Community Hospitals = 1\r\n",
    "\r\n",
    "Sex:\r\n",
    "\r\n",
    "Male = 1;\r\n",
    "Female = 0\r\n",
    "\r\n",
    "Age:\r\n",
    "\r\n",
    "0-14 Years = 0;\r\n",
    "15-64 years = 1;\r\n",
    "65 years & over = 2\r\n"
   ],
   "metadata": {}
  },
  {
   "cell_type": "code",
   "execution_count": 4,
   "source": [
    "from sklearn.model_selection import train_test_split\r\n",
    "X_train, X_test, y_train, y_test = train_test_split(X, y, test_size = 0.25, random_state  = 0)"
   ],
   "outputs": [],
   "metadata": {}
  },
  {
   "cell_type": "markdown",
   "source": [
    "## Training the multivariate linear regression model on the Training set"
   ],
   "metadata": {}
  },
  {
   "cell_type": "code",
   "execution_count": 5,
   "source": [
    "from sklearn.linear_model import LinearRegression\r\n",
    "lr_regressor = LinearRegression()\r\n",
    "lr_regressor.fit(X_train, y_train)"
   ],
   "outputs": [
    {
     "output_type": "execute_result",
     "data": {
      "text/plain": [
       "LinearRegression()"
      ]
     },
     "metadata": {},
     "execution_count": 5
    }
   ],
   "metadata": {}
  },
  {
   "cell_type": "markdown",
   "source": [
    "## Training the Random Forest Regression model on the whole dataset"
   ],
   "metadata": {}
  },
  {
   "cell_type": "code",
   "execution_count": 6,
   "source": [
    "from sklearn.ensemble import RandomForestRegressor\r\n",
    "rf_regressor = RandomForestRegressor(n_estimators = 10, random_state = 0)\r\n",
    "rf_regressor.fit(X_train, y_train)"
   ],
   "outputs": [
    {
     "output_type": "execute_result",
     "data": {
      "text/plain": [
       "RandomForestRegressor(n_estimators=10, random_state=0)"
      ]
     },
     "metadata": {},
     "execution_count": 6
    }
   ],
   "metadata": {}
  },
  {
   "cell_type": "markdown",
   "source": [
    "## Training the Decision Tree Regression model on the Training set"
   ],
   "metadata": {}
  },
  {
   "cell_type": "code",
   "execution_count": 7,
   "source": [
    "from sklearn.tree import DecisionTreeRegressor\r\n",
    "dt_regressor = DecisionTreeRegressor(random_state = 0)\r\n",
    "dt_regressor.fit(X_train, y_train)"
   ],
   "outputs": [
    {
     "output_type": "execute_result",
     "data": {
      "text/plain": [
       "DecisionTreeRegressor(random_state=0)"
      ]
     },
     "metadata": {},
     "execution_count": 7
    }
   ],
   "metadata": {}
  },
  {
   "cell_type": "markdown",
   "source": [
    "## Predicting the Test set results"
   ],
   "metadata": {}
  },
  {
   "cell_type": "code",
   "execution_count": 8,
   "source": [
    "lr_y_pred = lr_regressor.predict(X_test)\r\n",
    "rf_y_pred = rf_regressor.predict(X_test)\r\n",
    "dt_y_pred = dt_regressor.predict(X_test)"
   ],
   "outputs": [],
   "metadata": {}
  },
  {
   "cell_type": "code",
   "execution_count": 9,
   "source": [
    "from sklearn.metrics import r2_score\r\n",
    "np.set_printoptions(precision=2)\r\n",
    "print(\"Linear Regression Model:\", r2_score(y_test, lr_y_pred))\r\n",
    "print(\"Random Forest Regression Model:\", r2_score(y_test, rf_y_pred))\r\n",
    "print(\"Decision Tree Regression Model:\", r2_score(y_test, dt_y_pred))"
   ],
   "outputs": [
    {
     "output_type": "stream",
     "name": "stdout",
     "text": [
      "Linear Regression Model: 0.52079178894673\n",
      "Random Forest Regression Model: 0.9963226639436341\n",
      "Decision Tree Regression Model: 0.9944678728974797\n"
     ]
    }
   ],
   "metadata": {}
  },
  {
   "cell_type": "markdown",
   "source": [
    "Random Forest Regression model has the highest R2 score"
   ],
   "metadata": {}
  },
  {
   "cell_type": "markdown",
   "source": [
    "## Predicting the admission rate of Psychiatric Hospitals among Male aged 15-64 years in 2021"
   ],
   "metadata": {}
  },
  {
   "cell_type": "code",
   "execution_count": 10,
   "source": [
    "#Using random forest regression model\r\n",
    "print(rf_regressor.predict([[2021, 2, 1, 1]]))"
   ],
   "outputs": [
    {
     "output_type": "stream",
     "name": "stdout",
     "text": [
      "[2.94]\n"
     ]
    }
   ],
   "metadata": {}
  }
 ],
 "metadata": {
  "orig_nbformat": 4,
  "language_info": {
   "name": "python",
   "version": "3.8.6",
   "mimetype": "text/x-python",
   "codemirror_mode": {
    "name": "ipython",
    "version": 3
   },
   "pygments_lexer": "ipython3",
   "nbconvert_exporter": "python",
   "file_extension": ".py"
  },
  "kernelspec": {
   "name": "python3",
   "display_name": "Python 3.8.6 64-bit"
  },
  "interpreter": {
   "hash": "81e2118ac232342d5f66618a1d55e4a76e0c5905918eabba85e34576aac9ee08"
  }
 },
 "nbformat": 4,
 "nbformat_minor": 2
}